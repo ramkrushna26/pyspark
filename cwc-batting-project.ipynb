{
 "cells": [
  {
   "cell_type": "code",
   "execution_count": 6,
   "metadata": {},
   "outputs": [],
   "source": [
    "from pyspark.sql import SparkSession"
   ]
  },
  {
   "cell_type": "code",
   "execution_count": 2,
   "metadata": {},
   "outputs": [],
   "source": [
    "spark = SparkSession.builder.appName('CWCBatting').getOrCreate()"
   ]
  },
  {
   "cell_type": "code",
   "execution_count": 3,
   "metadata": {},
   "outputs": [],
   "source": [
    "df = spark.read.csv(\"../data/batting_summary.csv\", header=True, inferSchema=True)"
   ]
  },
  {
   "cell_type": "code",
   "execution_count": 12,
   "metadata": {},
   "outputs": [],
   "source": [
    "from pyspark.sql.types import DecimalType"
   ]
  },
  {
   "cell_type": "code",
   "execution_count": 18,
   "metadata": {},
   "outputs": [
    {
     "name": "stdout",
     "output_type": "stream",
     "text": [
      "root\n",
      " |-- Match_no: integer (nullable = true)\n",
      " |-- Match_Between: string (nullable = true)\n",
      " |-- Team_Innings: string (nullable = true)\n",
      " |-- Batsman_Name: string (nullable = true)\n",
      " |-- Batting_Position: integer (nullable = true)\n",
      " |-- Dismissal: string (nullable = true)\n",
      " |-- Runs: integer (nullable = true)\n",
      " |-- Balls: integer (nullable = true)\n",
      " |-- 4s: integer (nullable = true)\n",
      " |-- 6s: integer (nullable = true)\n",
      " |-- Strike_Rate: string (nullable = true)\n",
      "\n"
     ]
    }
   ],
   "source": [
    "df.printSchema()"
   ]
  },
  {
   "cell_type": "code",
   "execution_count": 19,
   "metadata": {},
   "outputs": [],
   "source": [
    "from pyspark.sql.functions import col"
   ]
  },
  {
   "cell_type": "code",
   "execution_count": 24,
   "metadata": {},
   "outputs": [],
   "source": [
    "df2 = df.withColumn(\"strike_rate\", col(\"strike_rate\").cast(DecimalType()))"
   ]
  },
  {
   "cell_type": "code",
   "execution_count": 25,
   "metadata": {},
   "outputs": [
    {
     "name": "stdout",
     "output_type": "stream",
     "text": [
      "root\n",
      " |-- Match_no: integer (nullable = true)\n",
      " |-- Match_Between: string (nullable = true)\n",
      " |-- Team_Innings: string (nullable = true)\n",
      " |-- Batsman_Name: string (nullable = true)\n",
      " |-- Batting_Position: integer (nullable = true)\n",
      " |-- Dismissal: string (nullable = true)\n",
      " |-- Runs: integer (nullable = true)\n",
      " |-- Balls: integer (nullable = true)\n",
      " |-- 4s: integer (nullable = true)\n",
      " |-- 6s: integer (nullable = true)\n",
      " |-- strike_rate: decimal(10,0) (nullable = true)\n",
      "\n"
     ]
    }
   ],
   "source": [
    "df2.printSchema()"
   ]
  },
  {
   "cell_type": "code",
   "execution_count": 27,
   "metadata": {},
   "outputs": [
    {
     "name": "stdout",
     "output_type": "stream",
     "text": [
      "+--------+--------------------+------------+--------------+----------------+--------------------+----+-----+---+---+-----------+\n",
      "|Match_no|       Match_Between|Team_Innings|  Batsman_Name|Batting_Position|           Dismissal|Runs|Balls| 4s| 6s|strike_rate|\n",
      "+--------+--------------------+------------+--------------+----------------+--------------------+----+-----+---+---+-----------+\n",
      "|       1|England vs New Ze...|     England|Jonny Bairstow|               1|c Daryl Mitchell ...|  33|   35|  4|  1|         94|\n",
      "|       1|England vs New Ze...|     England|   Dawid Malan|               2|c Tom Latham b Ma...|  14|   24|  2|  0|         58|\n",
      "+--------+--------------------+------------+--------------+----------------+--------------------+----+-----+---+---+-----------+\n",
      "only showing top 2 rows\n",
      "\n"
     ]
    }
   ],
   "source": [
    "df2.show(2)"
   ]
  },
  {
   "cell_type": "code",
   "execution_count": 28,
   "metadata": {},
   "outputs": [],
   "source": [
    "# how many matches does india played"
   ]
  },
  {
   "cell_type": "code",
   "execution_count": 29,
   "metadata": {},
   "outputs": [],
   "source": [
    "# Most runs scored by individual player"
   ]
  },
  {
   "cell_type": "code",
   "execution_count": 30,
   "metadata": {},
   "outputs": [],
   "source": [
    "# Most wicket taken by individual player"
   ]
  },
  {
   "cell_type": "code",
   "execution_count": 31,
   "metadata": {},
   "outputs": [],
   "source": [
    "# Most six hot by individual player"
   ]
  },
  {
   "cell_type": "code",
   "execution_count": 32,
   "metadata": {},
   "outputs": [],
   "source": [
    "# Team with number of wins and loose matches"
   ]
  },
  {
   "cell_type": "code",
   "execution_count": 33,
   "metadata": {},
   "outputs": [],
   "source": [
    "# Most boundaries scored by which team"
   ]
  },
  {
   "cell_type": "code",
   "execution_count": 34,
   "metadata": {},
   "outputs": [],
   "source": [
    "# highest & lowest scored by which team"
   ]
  },
  {
   "cell_type": "code",
   "execution_count": 35,
   "metadata": {},
   "outputs": [],
   "source": [
    "# Most catches taken by which player"
   ]
  },
  {
   "cell_type": "code",
   "execution_count": 36,
   "metadata": {},
   "outputs": [],
   "source": [
    "# Avg strike rate of 1st, 2nd, 3rd batter"
   ]
  },
  {
   "cell_type": "code",
   "execution_count": null,
   "metadata": {},
   "outputs": [],
   "source": []
  }
 ],
 "metadata": {
  "kernelspec": {
   "display_name": "Python 3",
   "language": "python",
   "name": "python3"
  },
  "language_info": {
   "codemirror_mode": {
    "name": "ipython",
    "version": 3
   },
   "file_extension": ".py",
   "mimetype": "text/x-python",
   "name": "python",
   "nbconvert_exporter": "python",
   "pygments_lexer": "ipython3",
   "version": "3.8.10"
  }
 },
 "nbformat": 4,
 "nbformat_minor": 4
}
