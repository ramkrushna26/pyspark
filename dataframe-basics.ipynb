{
 "cells": [
  {
   "cell_type": "code",
   "execution_count": 1,
   "metadata": {},
   "outputs": [],
   "source": [
    "from pyspark.sql import SparkSession"
   ]
  },
  {
   "cell_type": "code",
   "execution_count": 2,
   "metadata": {},
   "outputs": [],
   "source": [
    "from pyspark.sql.types import StructType, StructField, IntegerType, StringType"
   ]
  },
  {
   "cell_type": "code",
   "execution_count": 4,
   "metadata": {},
   "outputs": [],
   "source": [
    "spark = SparkSession.builder.appName('Basics').getOrCreate()"
   ]
  },
  {
   "cell_type": "code",
   "execution_count": 5,
   "metadata": {},
   "outputs": [],
   "source": [
    "data_schema = [StructField('Region', StringType(), True),\n",
    "\t\t\t\tStructField('Exchange', StringType(), True),\n",
    "\t\t\t\tStructField('Index', StringType(), True),\n",
    "\t\t\t\tStructField('Currency', StringType(), True)]\n",
    "\n",
    "final_struct = StructType(data_schema)"
   ]
  },
  {
   "cell_type": "code",
   "execution_count": 6,
   "metadata": {},
   "outputs": [],
   "source": [
    "df = spark.read.option(\"header\", True).csv('../data/stock-data/indexInfo.csv', schema=final_struct)"
   ]
  },
  {
   "cell_type": "code",
   "execution_count": 7,
   "metadata": {},
   "outputs": [
    {
     "name": "stdout",
     "output_type": "stream",
     "text": [
      "+-------------+--------------------+---------+--------+\n",
      "|       Region|            Exchange|    Index|Currency|\n",
      "+-------------+--------------------+---------+--------+\n",
      "|United States|New York Stock Ex...|      NYA|     USD|\n",
      "|United States|              NASDAQ|     IXIC|     USD|\n",
      "|    Hong Kong|Hong Kong Stock E...|      HSI|     HKD|\n",
      "|        China|Shanghai Stock Ex...|000001.SS|     CNY|\n",
      "|        Japan|Tokyo Stock Exchange|     N225|     JPY|\n",
      "|       Europe|            Euronext|     N100|     EUR|\n",
      "|        China|Shenzhen Stock Ex...|399001.SZ|     CNY|\n",
      "|       Canada|Toronto Stock Exc...|   GSPTSE|     CAD|\n",
      "|        India|National Stock Ex...|     NSEI|     INR|\n",
      "|      Germany|Frankfurt Stock E...|    GDAXI|     EUR|\n",
      "|        Korea|      Korea Exchange|     KS11|     KRW|\n",
      "|  Switzerland|  SIX Swiss Exchange|     SSMI|     CHF|\n",
      "|       Taiwan|Taiwan Stock Exch...|     TWII|     TWD|\n",
      "| South Africa|Johannesburg Stoc...|  J203.JO|     ZAR|\n",
      "+-------------+--------------------+---------+--------+\n",
      "\n"
     ]
    }
   ],
   "source": [
    "df.show()"
   ]
  },
  {
   "cell_type": "code",
   "execution_count": 8,
   "metadata": {},
   "outputs": [
    {
     "data": {
      "text/plain": [
       "['Region', 'Exchange', 'Index', 'Currency']"
      ]
     },
     "execution_count": 8,
     "metadata": {},
     "output_type": "execute_result"
    }
   ],
   "source": [
    "df.columns"
   ]
  },
  {
   "cell_type": "code",
   "execution_count": 9,
   "metadata": {},
   "outputs": [
    {
     "name": "stdout",
     "output_type": "stream",
     "text": [
      "root\n",
      " |-- Region: string (nullable = true)\n",
      " |-- Exchange: string (nullable = true)\n",
      " |-- Index: string (nullable = true)\n",
      " |-- Currency: string (nullable = true)\n",
      "\n"
     ]
    }
   ],
   "source": [
    "df.printSchema()"
   ]
  },
  {
   "cell_type": "code",
   "execution_count": 10,
   "metadata": {},
   "outputs": [
    {
     "data": {
      "text/plain": [
       "Column<'Region'>"
      ]
     },
     "execution_count": 10,
     "metadata": {},
     "output_type": "execute_result"
    }
   ],
   "source": [
    "df['Region']"
   ]
  },
  {
   "cell_type": "code",
   "execution_count": 11,
   "metadata": {},
   "outputs": [
    {
     "data": {
      "text/plain": [
       "DataFrame[Region: string]"
      ]
     },
     "execution_count": 11,
     "metadata": {},
     "output_type": "execute_result"
    }
   ],
   "source": [
    "df.select('Region')"
   ]
  },
  {
   "cell_type": "code",
   "execution_count": 12,
   "metadata": {},
   "outputs": [
    {
     "name": "stdout",
     "output_type": "stream",
     "text": [
      "+-------------+\n",
      "|       Region|\n",
      "+-------------+\n",
      "|United States|\n",
      "|United States|\n",
      "|    Hong Kong|\n",
      "|        China|\n",
      "|        Japan|\n",
      "|       Europe|\n",
      "|        China|\n",
      "|       Canada|\n",
      "|        India|\n",
      "|      Germany|\n",
      "|        Korea|\n",
      "|  Switzerland|\n",
      "|       Taiwan|\n",
      "| South Africa|\n",
      "+-------------+\n",
      "\n"
     ]
    }
   ],
   "source": [
    "df.select('Region').show()"
   ]
  },
  {
   "cell_type": "code",
   "execution_count": 15,
   "metadata": {},
   "outputs": [
    {
     "data": {
      "text/plain": [
       "Row(Region='United States', Exchange='NASDAQ', Index='IXIC', Currency='USD')"
      ]
     },
     "execution_count": 15,
     "metadata": {},
     "output_type": "execute_result"
    }
   ],
   "source": [
    "df.head(2)[1]"
   ]
  },
  {
   "cell_type": "code",
   "execution_count": 16,
   "metadata": {},
   "outputs": [
    {
     "data": {
      "text/plain": [
       "pyspark.sql.types.Row"
      ]
     },
     "execution_count": 16,
     "metadata": {},
     "output_type": "execute_result"
    }
   ],
   "source": [
    "type(df.head(2)[1])"
   ]
  },
  {
   "cell_type": "code",
   "execution_count": 17,
   "metadata": {},
   "outputs": [
    {
     "name": "stdout",
     "output_type": "stream",
     "text": [
      "+-------------+--------+\n",
      "|       Region|Currency|\n",
      "+-------------+--------+\n",
      "|United States|     USD|\n",
      "|United States|     USD|\n",
      "|    Hong Kong|     HKD|\n",
      "|        China|     CNY|\n",
      "|        Japan|     JPY|\n",
      "|       Europe|     EUR|\n",
      "|        China|     CNY|\n",
      "|       Canada|     CAD|\n",
      "|        India|     INR|\n",
      "|      Germany|     EUR|\n",
      "|        Korea|     KRW|\n",
      "|  Switzerland|     CHF|\n",
      "|       Taiwan|     TWD|\n",
      "| South Africa|     ZAR|\n",
      "+-------------+--------+\n",
      "\n"
     ]
    }
   ],
   "source": [
    "df.select(['Region','Currency']).show()"
   ]
  },
  {
   "cell_type": "code",
   "execution_count": 21,
   "metadata": {},
   "outputs": [
    {
     "data": {
      "text/plain": [
       "[Row(Country='United States', Exchange='New York Stock Exchange', Index='NYA', Currency='USD'),\n",
       " Row(Country='United States', Exchange='NASDAQ', Index='IXIC', Currency='USD')]"
      ]
     },
     "execution_count": 21,
     "metadata": {},
     "output_type": "execute_result"
    }
   ],
   "source": [
    "df.withColumnRenamed('Region', 'Country').head(2)"
   ]
  },
  {
   "cell_type": "code",
   "execution_count": 19,
   "metadata": {},
   "outputs": [
    {
     "data": {
      "text/plain": [
       "['Region', 'Exchange', 'Index', 'Currency']"
      ]
     },
     "execution_count": 19,
     "metadata": {},
     "output_type": "execute_result"
    }
   ],
   "source": [
    "df.columns"
   ]
  },
  {
   "cell_type": "code",
   "execution_count": 22,
   "metadata": {},
   "outputs": [],
   "source": [
    "df.createOrReplaceTempView('indices')"
   ]
  },
  {
   "cell_type": "code",
   "execution_count": 26,
   "metadata": {},
   "outputs": [],
   "source": [
    "res = spark.sql(\"select * from indices\")"
   ]
  },
  {
   "cell_type": "code",
   "execution_count": 27,
   "metadata": {},
   "outputs": [
    {
     "data": {
      "text/plain": [
       "[Row(Region='United States', Exchange='New York Stock Exchange', Index='NYA', Currency='USD'),\n",
       " Row(Region='United States', Exchange='NASDAQ', Index='IXIC', Currency='USD')]"
      ]
     },
     "execution_count": 27,
     "metadata": {},
     "output_type": "execute_result"
    }
   ],
   "source": [
    "res.head(2)"
   ]
  },
  {
   "cell_type": "code",
   "execution_count": 28,
   "metadata": {},
   "outputs": [],
   "source": [
    "res_2 = spark.sql(\"select * from indices where region = 'China'\")"
   ]
  },
  {
   "cell_type": "code",
   "execution_count": 29,
   "metadata": {},
   "outputs": [
    {
     "name": "stdout",
     "output_type": "stream",
     "text": [
      "+------+--------------------+---------+--------+\n",
      "|Region|            Exchange|    Index|Currency|\n",
      "+------+--------------------+---------+--------+\n",
      "| China|Shanghai Stock Ex...|000001.SS|     CNY|\n",
      "| China|Shenzhen Stock Ex...|399001.SZ|     CNY|\n",
      "+------+--------------------+---------+--------+\n",
      "\n"
     ]
    }
   ],
   "source": [
    "res_2.show()"
   ]
  },
  {
   "cell_type": "code",
   "execution_count": 31,
   "metadata": {},
   "outputs": [],
   "source": [
    "spark = SparkSession.builder.appName(\"Stocks\").getOrCreate()"
   ]
  },
  {
   "cell_type": "code",
   "execution_count": 32,
   "metadata": {},
   "outputs": [],
   "source": [
    "df = spark.read.csv(\"../data/stock-data/indexData.csv\", inferSchema=True, header=True)"
   ]
  },
  {
   "cell_type": "code",
   "execution_count": 33,
   "metadata": {},
   "outputs": [
    {
     "data": {
      "text/plain": [
       "[Row(Index='NYA', Date=datetime.date(1965, 12, 31), Open='528.690002', High='528.690002', Low='528.690002', Close='528.690002', Adj Close='528.690002', Volume='0'),\n",
       " Row(Index='NYA', Date=datetime.date(1966, 1, 3), Open='527.210022', High='527.210022', Low='527.210022', Close='527.210022', Adj Close='527.210022', Volume='0')]"
      ]
     },
     "execution_count": 33,
     "metadata": {},
     "output_type": "execute_result"
    }
   ],
   "source": [
    "df.head(2)"
   ]
  },
  {
   "cell_type": "code",
   "execution_count": 34,
   "metadata": {},
   "outputs": [
    {
     "name": "stdout",
     "output_type": "stream",
     "text": [
      "root\n",
      " |-- Index: string (nullable = true)\n",
      " |-- Date: date (nullable = true)\n",
      " |-- Open: string (nullable = true)\n",
      " |-- High: string (nullable = true)\n",
      " |-- Low: string (nullable = true)\n",
      " |-- Close: string (nullable = true)\n",
      " |-- Adj Close: string (nullable = true)\n",
      " |-- Volume: string (nullable = true)\n",
      "\n"
     ]
    }
   ],
   "source": [
    "df.printSchema()"
   ]
  },
  {
   "cell_type": "code",
   "execution_count": 38,
   "metadata": {},
   "outputs": [
    {
     "data": {
      "text/plain": [
       "[Row(Index='NYA', Date=datetime.date(2001, 1, 3), Open='6968.830078', High='6968.830078', Low='6968.830078', Close='6968.830078', Adj Close='6968.830078', Volume='1880700000'),\n",
       " Row(Index='NYA', Date=datetime.date(2001, 1, 5), Open='6774.060059', High='6774.060059', Low='6774.060059', Close='6774.060059', Adj Close='6774.060059', Volume='1430800000')]"
      ]
     },
     "execution_count": 38,
     "metadata": {},
     "output_type": "execute_result"
    }
   ],
   "source": [
    "df.filter(\"Volume > 1000\").head(2)"
   ]
  },
  {
   "cell_type": "code",
   "execution_count": 39,
   "metadata": {},
   "outputs": [
    {
     "data": {
      "text/plain": [
       "[Row(Index='NYA', Date=datetime.date(2001, 1, 3)),\n",
       " Row(Index='NYA', Date=datetime.date(2001, 1, 5))]"
      ]
     },
     "execution_count": 39,
     "metadata": {},
     "output_type": "execute_result"
    }
   ],
   "source": [
    "df.filter(\"Volume > 1000\").select(['Index', 'Date']).head(2)"
   ]
  },
  {
   "cell_type": "code",
   "execution_count": 44,
   "metadata": {},
   "outputs": [
    {
     "data": {
      "text/plain": [
       "[Row(Index='NYA', Date=datetime.date(1966, 5, 9), Open='493.480011', High='493.480011', Low='493.480011', Close='493.480011', Adj Close='493.480011', Volume='0'),\n",
       " Row(Index='NYA', Date=datetime.date(1966, 5, 10), Open='497.709991', High='497.709991', Low='497.709991', Close='497.709991', Adj Close='497.709991', Volume='0')]"
      ]
     },
     "execution_count": 44,
     "metadata": {},
     "output_type": "execute_result"
    }
   ],
   "source": [
    "df.filter( (df['open'] < 500) & ~(df['volume'] > 100000) ).head(2)"
   ]
  },
  {
   "cell_type": "code",
   "execution_count": 60,
   "metadata": {},
   "outputs": [],
   "source": [
    "res = df.filter(df['Adj Close'] == 497.709991).collect()"
   ]
  },
  {
   "cell_type": "code",
   "execution_count": 62,
   "metadata": {},
   "outputs": [
    {
     "data": {
      "text/plain": [
       "Row(Index='N100', Date=datetime.date(2009, 1, 23), Open='496.769989', High='500.109985', Low='484.890015', Close='497.709991', Adj Close='497.709991', Volume='328528500')"
      ]
     },
     "execution_count": 62,
     "metadata": {},
     "output_type": "execute_result"
    }
   ],
   "source": [
    "res[1][]"
   ]
  },
  {
   "cell_type": "code",
   "execution_count": null,
   "metadata": {},
   "outputs": [],
   "source": []
  }
 ],
 "metadata": {
  "kernelspec": {
   "display_name": "Python 3",
   "language": "python",
   "name": "python3"
  },
  "language_info": {
   "codemirror_mode": {
    "name": "ipython",
    "version": 3
   },
   "file_extension": ".py",
   "mimetype": "text/x-python",
   "name": "python",
   "nbconvert_exporter": "python",
   "pygments_lexer": "ipython3",
   "version": "3.8.10"
  }
 },
 "nbformat": 4,
 "nbformat_minor": 4
}
