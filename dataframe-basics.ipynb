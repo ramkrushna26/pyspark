{
 "cells": [
  {
   "cell_type": "code",
   "execution_count": 2,
   "metadata": {},
   "outputs": [],
   "source": [
    "from pyspark.sql import SparkSession"
   ]
  },
  {
   "cell_type": "code",
   "execution_count": 3,
   "metadata": {},
   "outputs": [],
   "source": [
    "from pyspark.sql.types import StructType, StructField, IntegerType, StringType"
   ]
  },
  {
   "cell_type": "code",
   "execution_count": 4,
   "metadata": {},
   "outputs": [],
   "source": [
    "spark = SparkSession.builder.appName('Basics').getOrCreate()"
   ]
  },
  {
   "cell_type": "code",
   "execution_count": 5,
   "metadata": {},
   "outputs": [],
   "source": [
    "data_schema = [StructField('Region', StringType(), True),\n",
    "\t\t\t\tStructField('Exchange', StringType(), True),\n",
    "\t\t\t\tStructField('Index', StringType(), True),\n",
    "\t\t\t\tStructField('Currency', StringType(), True)]\n",
    "\n",
    "final_struct = StructType(data_schema)"
   ]
  },
  {
   "cell_type": "code",
   "execution_count": 6,
   "metadata": {},
   "outputs": [],
   "source": [
    "df = spark.read.option(\"header\", True).csv('../data/stock-data/indexInfo.csv', schema=final_struct)"
   ]
  },
  {
   "cell_type": "code",
   "execution_count": 7,
   "metadata": {},
   "outputs": [
    {
     "name": "stdout",
     "output_type": "stream",
     "text": [
      "+-------------+--------------------+---------+--------+\n",
      "|       Region|            Exchange|    Index|Currency|\n",
      "+-------------+--------------------+---------+--------+\n",
      "|United States|New York Stock Ex...|      NYA|     USD|\n",
      "|United States|              NASDAQ|     IXIC|     USD|\n",
      "|    Hong Kong|Hong Kong Stock E...|      HSI|     HKD|\n",
      "|        China|Shanghai Stock Ex...|000001.SS|     CNY|\n",
      "|        Japan|Tokyo Stock Exchange|     N225|     JPY|\n",
      "|       Europe|            Euronext|     N100|     EUR|\n",
      "|        China|Shenzhen Stock Ex...|399001.SZ|     CNY|\n",
      "|       Canada|Toronto Stock Exc...|   GSPTSE|     CAD|\n",
      "|        India|National Stock Ex...|     NSEI|     INR|\n",
      "|      Germany|Frankfurt Stock E...|    GDAXI|     EUR|\n",
      "|        Korea|      Korea Exchange|     KS11|     KRW|\n",
      "|  Switzerland|  SIX Swiss Exchange|     SSMI|     CHF|\n",
      "|       Taiwan|Taiwan Stock Exch...|     TWII|     TWD|\n",
      "| South Africa|Johannesburg Stoc...|  J203.JO|     ZAR|\n",
      "+-------------+--------------------+---------+--------+\n",
      "\n"
     ]
    }
   ],
   "source": [
    "df.show()"
   ]
  },
  {
   "cell_type": "code",
   "execution_count": 8,
   "metadata": {},
   "outputs": [
    {
     "data": {
      "text/plain": [
       "['Region', 'Exchange', 'Index', 'Currency']"
      ]
     },
     "execution_count": 8,
     "metadata": {},
     "output_type": "execute_result"
    }
   ],
   "source": [
    "df.columns"
   ]
  },
  {
   "cell_type": "code",
   "execution_count": 9,
   "metadata": {},
   "outputs": [
    {
     "name": "stdout",
     "output_type": "stream",
     "text": [
      "root\n",
      " |-- Region: string (nullable = true)\n",
      " |-- Exchange: string (nullable = true)\n",
      " |-- Index: string (nullable = true)\n",
      " |-- Currency: string (nullable = true)\n",
      "\n"
     ]
    }
   ],
   "source": [
    "df.printSchema()"
   ]
  },
  {
   "cell_type": "code",
   "execution_count": 10,
   "metadata": {},
   "outputs": [
    {
     "data": {
      "text/plain": [
       "Column<'Region'>"
      ]
     },
     "execution_count": 10,
     "metadata": {},
     "output_type": "execute_result"
    }
   ],
   "source": [
    "df['Region']"
   ]
  },
  {
   "cell_type": "code",
   "execution_count": 11,
   "metadata": {},
   "outputs": [
    {
     "data": {
      "text/plain": [
       "DataFrame[Region: string]"
      ]
     },
     "execution_count": 11,
     "metadata": {},
     "output_type": "execute_result"
    }
   ],
   "source": [
    "df.select('Region')"
   ]
  },
  {
   "cell_type": "code",
   "execution_count": 12,
   "metadata": {},
   "outputs": [
    {
     "name": "stdout",
     "output_type": "stream",
     "text": [
      "+-------------+\n",
      "|       Region|\n",
      "+-------------+\n",
      "|United States|\n",
      "|United States|\n",
      "|    Hong Kong|\n",
      "|        China|\n",
      "|        Japan|\n",
      "|       Europe|\n",
      "|        China|\n",
      "|       Canada|\n",
      "|        India|\n",
      "|      Germany|\n",
      "|        Korea|\n",
      "|  Switzerland|\n",
      "|       Taiwan|\n",
      "| South Africa|\n",
      "+-------------+\n",
      "\n"
     ]
    }
   ],
   "source": [
    "df.select('Region').show()"
   ]
  },
  {
   "cell_type": "code",
   "execution_count": 15,
   "metadata": {},
   "outputs": [
    {
     "data": {
      "text/plain": [
       "Row(Region='United States', Exchange='NASDAQ', Index='IXIC', Currency='USD')"
      ]
     },
     "execution_count": 15,
     "metadata": {},
     "output_type": "execute_result"
    }
   ],
   "source": [
    "df.head(2)[1]"
   ]
  },
  {
   "cell_type": "code",
   "execution_count": 16,
   "metadata": {},
   "outputs": [
    {
     "data": {
      "text/plain": [
       "pyspark.sql.types.Row"
      ]
     },
     "execution_count": 16,
     "metadata": {},
     "output_type": "execute_result"
    }
   ],
   "source": [
    "type(df.head(2)[1])"
   ]
  },
  {
   "cell_type": "code",
   "execution_count": 17,
   "metadata": {},
   "outputs": [
    {
     "name": "stdout",
     "output_type": "stream",
     "text": [
      "+-------------+--------+\n",
      "|       Region|Currency|\n",
      "+-------------+--------+\n",
      "|United States|     USD|\n",
      "|United States|     USD|\n",
      "|    Hong Kong|     HKD|\n",
      "|        China|     CNY|\n",
      "|        Japan|     JPY|\n",
      "|       Europe|     EUR|\n",
      "|        China|     CNY|\n",
      "|       Canada|     CAD|\n",
      "|        India|     INR|\n",
      "|      Germany|     EUR|\n",
      "|        Korea|     KRW|\n",
      "|  Switzerland|     CHF|\n",
      "|       Taiwan|     TWD|\n",
      "| South Africa|     ZAR|\n",
      "+-------------+--------+\n",
      "\n"
     ]
    }
   ],
   "source": [
    "df.select(['Region','Currency']).show()"
   ]
  },
  {
   "cell_type": "code",
   "execution_count": 21,
   "metadata": {},
   "outputs": [
    {
     "data": {
      "text/plain": [
       "[Row(Country='United States', Exchange='New York Stock Exchange', Index='NYA', Currency='USD'),\n",
       " Row(Country='United States', Exchange='NASDAQ', Index='IXIC', Currency='USD')]"
      ]
     },
     "execution_count": 21,
     "metadata": {},
     "output_type": "execute_result"
    }
   ],
   "source": [
    "df.withColumnRenamed('Region', 'Country').head(2)"
   ]
  },
  {
   "cell_type": "code",
   "execution_count": 19,
   "metadata": {},
   "outputs": [
    {
     "data": {
      "text/plain": [
       "['Region', 'Exchange', 'Index', 'Currency']"
      ]
     },
     "execution_count": 19,
     "metadata": {},
     "output_type": "execute_result"
    }
   ],
   "source": [
    "df.columns"
   ]
  },
  {
   "cell_type": "code",
   "execution_count": 22,
   "metadata": {},
   "outputs": [],
   "source": [
    "df.createOrReplaceTempView('indices')"
   ]
  },
  {
   "cell_type": "code",
   "execution_count": 26,
   "metadata": {},
   "outputs": [],
   "source": [
    "res = spark.sql(\"select * from indices\")"
   ]
  },
  {
   "cell_type": "code",
   "execution_count": 27,
   "metadata": {},
   "outputs": [
    {
     "data": {
      "text/plain": [
       "[Row(Region='United States', Exchange='New York Stock Exchange', Index='NYA', Currency='USD'),\n",
       " Row(Region='United States', Exchange='NASDAQ', Index='IXIC', Currency='USD')]"
      ]
     },
     "execution_count": 27,
     "metadata": {},
     "output_type": "execute_result"
    }
   ],
   "source": [
    "res.head(2)"
   ]
  },
  {
   "cell_type": "code",
   "execution_count": 28,
   "metadata": {},
   "outputs": [],
   "source": [
    "res_2 = spark.sql(\"select * from indices where region = 'China'\")"
   ]
  },
  {
   "cell_type": "code",
   "execution_count": 29,
   "metadata": {},
   "outputs": [
    {
     "name": "stdout",
     "output_type": "stream",
     "text": [
      "+------+--------------------+---------+--------+\n",
      "|Region|            Exchange|    Index|Currency|\n",
      "+------+--------------------+---------+--------+\n",
      "| China|Shanghai Stock Ex...|000001.SS|     CNY|\n",
      "| China|Shenzhen Stock Ex...|399001.SZ|     CNY|\n",
      "+------+--------------------+---------+--------+\n",
      "\n"
     ]
    }
   ],
   "source": [
    "res_2.show()"
   ]
  },
  {
   "cell_type": "code",
   "execution_count": 4,
   "metadata": {},
   "outputs": [],
   "source": [
    "spark = SparkSession.builder.appName(\"Stocks\").getOrCreate()"
   ]
  },
  {
   "cell_type": "code",
   "execution_count": 5,
   "metadata": {},
   "outputs": [],
   "source": [
    "df = spark.read.csv(\"../data/stock-data/indexData.csv\", inferSchema=True, header=True)"
   ]
  },
  {
   "cell_type": "code",
   "execution_count": 33,
   "metadata": {},
   "outputs": [
    {
     "data": {
      "text/plain": [
       "[Row(Index='NYA', Date=datetime.date(1965, 12, 31), Open='528.690002', High='528.690002', Low='528.690002', Close='528.690002', Adj Close='528.690002', Volume='0'),\n",
       " Row(Index='NYA', Date=datetime.date(1966, 1, 3), Open='527.210022', High='527.210022', Low='527.210022', Close='527.210022', Adj Close='527.210022', Volume='0')]"
      ]
     },
     "execution_count": 33,
     "metadata": {},
     "output_type": "execute_result"
    }
   ],
   "source": [
    "df.head(2)"
   ]
  },
  {
   "cell_type": "code",
   "execution_count": 34,
   "metadata": {},
   "outputs": [
    {
     "name": "stdout",
     "output_type": "stream",
     "text": [
      "root\n",
      " |-- Index: string (nullable = true)\n",
      " |-- Date: date (nullable = true)\n",
      " |-- Open: string (nullable = true)\n",
      " |-- High: string (nullable = true)\n",
      " |-- Low: string (nullable = true)\n",
      " |-- Close: string (nullable = true)\n",
      " |-- Adj Close: string (nullable = true)\n",
      " |-- Volume: string (nullable = true)\n",
      "\n"
     ]
    }
   ],
   "source": [
    "df.printSchema()"
   ]
  },
  {
   "cell_type": "code",
   "execution_count": 38,
   "metadata": {},
   "outputs": [
    {
     "data": {
      "text/plain": [
       "[Row(Index='NYA', Date=datetime.date(2001, 1, 3), Open='6968.830078', High='6968.830078', Low='6968.830078', Close='6968.830078', Adj Close='6968.830078', Volume='1880700000'),\n",
       " Row(Index='NYA', Date=datetime.date(2001, 1, 5), Open='6774.060059', High='6774.060059', Low='6774.060059', Close='6774.060059', Adj Close='6774.060059', Volume='1430800000')]"
      ]
     },
     "execution_count": 38,
     "metadata": {},
     "output_type": "execute_result"
    }
   ],
   "source": [
    "df.filter(\"Volume > 1000\").head(2)"
   ]
  },
  {
   "cell_type": "code",
   "execution_count": 39,
   "metadata": {},
   "outputs": [
    {
     "data": {
      "text/plain": [
       "[Row(Index='NYA', Date=datetime.date(2001, 1, 3)),\n",
       " Row(Index='NYA', Date=datetime.date(2001, 1, 5))]"
      ]
     },
     "execution_count": 39,
     "metadata": {},
     "output_type": "execute_result"
    }
   ],
   "source": [
    "df.filter(\"Volume > 1000\").select(['Index', 'Date']).head(2)"
   ]
  },
  {
   "cell_type": "code",
   "execution_count": 44,
   "metadata": {},
   "outputs": [
    {
     "data": {
      "text/plain": [
       "[Row(Index='NYA', Date=datetime.date(1966, 5, 9), Open='493.480011', High='493.480011', Low='493.480011', Close='493.480011', Adj Close='493.480011', Volume='0'),\n",
       " Row(Index='NYA', Date=datetime.date(1966, 5, 10), Open='497.709991', High='497.709991', Low='497.709991', Close='497.709991', Adj Close='497.709991', Volume='0')]"
      ]
     },
     "execution_count": 44,
     "metadata": {},
     "output_type": "execute_result"
    }
   ],
   "source": [
    "df.filter( (df['open'] < 500) & ~(df['volume'] > 100000) ).head(2)"
   ]
  },
  {
   "cell_type": "code",
   "execution_count": 6,
   "metadata": {},
   "outputs": [],
   "source": [
    "res = df.filter(df['Adj Close'] == 497.709991).collect()"
   ]
  },
  {
   "cell_type": "code",
   "execution_count": 8,
   "metadata": {},
   "outputs": [
    {
     "data": {
      "text/plain": [
       "'328528500'"
      ]
     },
     "execution_count": 8,
     "metadata": {},
     "output_type": "execute_result"
    }
   ],
   "source": [
    "res[1]['Volume']"
   ]
  },
  {
   "cell_type": "code",
   "execution_count": 11,
   "metadata": {},
   "outputs": [
    {
     "name": "stdout",
     "output_type": "stream",
     "text": [
      "+-----+----------+----------+----------+----------+----------+----------+------+\n",
      "|Index|      Date|      Open|      High|       Low|     Close| Adj Close|Volume|\n",
      "+-----+----------+----------+----------+----------+----------+----------+------+\n",
      "|  NYA|1965-12-31|528.690002|528.690002|528.690002|528.690002|528.690002|     0|\n",
      "|  NYA|1966-01-03|527.210022|527.210022|527.210022|527.210022|527.210022|     0|\n",
      "|  NYA|1966-01-04|527.840027|527.840027|527.840027|527.840027|527.840027|     0|\n",
      "|  NYA|1966-01-05|531.119995|531.119995|531.119995|531.119995|531.119995|     0|\n",
      "|  NYA|1966-01-06|532.070007|532.070007|532.070007|532.070007|532.070007|     0|\n",
      "|  NYA|1966-01-07|532.599976|532.599976|532.599976|532.599976|532.599976|     0|\n",
      "|  NYA|1966-01-10|533.869995|533.869995|533.869995|533.869995|533.869995|     0|\n",
      "|  NYA|1966-01-11|534.289978|534.289978|534.289978|534.289978|534.289978|     0|\n",
      "|  NYA|1966-01-12|533.340027|533.340027|533.340027|533.340027|533.340027|     0|\n",
      "|  NYA|1966-01-13|534.400024|534.400024|534.400024|534.400024|534.400024|     0|\n",
      "|  NYA|1966-01-14|535.450012|535.450012|535.450012|535.450012|535.450012|     0|\n",
      "|  NYA|1966-01-17|537.460022|537.460022|537.460022|537.460022|537.460022|     0|\n",
      "|  NYA|1966-01-18|538.940002|538.940002|538.940002|538.940002|538.940002|     0|\n",
      "|  NYA|1966-01-19|537.669983|537.669983|537.669983|537.669983|537.669983|     0|\n",
      "|  NYA|1966-01-20|535.669983|535.669983|535.669983|535.669983|535.669983|     0|\n",
      "|  NYA|1966-01-21| 535.97998| 535.97998| 535.97998| 535.97998| 535.97998|     0|\n",
      "|  NYA|1966-01-24|537.669983|537.669983|537.669983|537.669983|537.669983|     0|\n",
      "|  NYA|1966-01-25|538.099976|538.099976|538.099976|538.099976|538.099976|     0|\n",
      "|  NYA|1966-01-26|537.570007|537.570007|537.570007|537.570007|537.570007|     0|\n",
      "|  NYA|1966-01-27|537.359985|537.359985|537.359985|537.359985|537.359985|     0|\n",
      "+-----+----------+----------+----------+----------+----------+----------+------+\n",
      "only showing top 20 rows\n",
      "\n"
     ]
    }
   ],
   "source": [
    "df.show()"
   ]
  },
  {
   "cell_type": "code",
   "execution_count": 14,
   "metadata": {},
   "outputs": [
    {
     "name": "stdout",
     "output_type": "stream",
     "text": [
      "+---------+-----+\n",
      "|    index|count|\n",
      "+---------+-----+\n",
      "|     NSEI| 3381|\n",
      "|   GSPTSE|10776|\n",
      "|      NYA|13948|\n",
      "|      HSI| 8750|\n",
      "|399001.SZ| 5928|\n",
      "|     IXIC|12690|\n",
      "|000001.SS| 5963|\n",
      "|     KS11| 6181|\n",
      "|     SSMI| 7830|\n",
      "|    GDAXI| 8606|\n",
      "|     TWII| 6010|\n",
      "|     N225|14500|\n",
      "|     N100| 5507|\n",
      "|  J203.JO| 2387|\n",
      "+---------+-----+\n",
      "\n"
     ]
    }
   ],
   "source": [
    "df.groupBy('index').count().show()"
   ]
  },
  {
   "cell_type": "code",
   "execution_count": 18,
   "metadata": {},
   "outputs": [
    {
     "name": "stdout",
     "output_type": "stream",
     "text": [
      "+------------+\n",
      "|count(index)|\n",
      "+------------+\n",
      "|      112457|\n",
      "+------------+\n",
      "\n"
     ]
    }
   ],
   "source": [
    "df.agg({'index': 'count'}).show()"
   ]
  },
  {
   "cell_type": "code",
   "execution_count": 19,
   "metadata": {},
   "outputs": [],
   "source": [
    "from pyspark.sql.functions import countDistinct, avg, stddev"
   ]
  },
  {
   "cell_type": "code",
   "execution_count": 23,
   "metadata": {},
   "outputs": [
    {
     "name": "stdout",
     "output_type": "stream",
     "text": [
      "+-------------+\n",
      "|No of indices|\n",
      "+-------------+\n",
      "|           14|\n",
      "+-------------+\n",
      "\n"
     ]
    }
   ],
   "source": [
    "df.agg(countDistinct('index').alias('No of indices')).show()"
   ]
  },
  {
   "cell_type": "code",
   "execution_count": 25,
   "metadata": {},
   "outputs": [],
   "source": [
    "from pyspark.sql.functions import format_number"
   ]
  },
  {
   "cell_type": "code",
   "execution_count": 29,
   "metadata": {},
   "outputs": [
    {
     "name": "stdout",
     "output_type": "stream",
     "text": [
      "+--------+\n",
      "|     std|\n",
      "+--------+\n",
      "|9,011.48|\n",
      "+--------+\n",
      "\n"
     ]
    }
   ],
   "source": [
    "df.agg(format_number(stddev('open'),2).alias('std')).show()"
   ]
  },
  {
   "cell_type": "code",
   "execution_count": 30,
   "metadata": {},
   "outputs": [
    {
     "name": "stdout",
     "output_type": "stream",
     "text": [
      "+-----+----------+-----------+-----------+-----------+-----------+-----------+------+\n",
      "|Index|      Date|       Open|       High|        Low|      Close|  Adj Close|Volume|\n",
      "+-----+----------+-----------+-----------+-----------+-----------+-----------+------+\n",
      "| TWII|1997-07-24|9500.860352|9632.419922|9475.540039|9632.419922|9632.383789|     0|\n",
      "|  NYA|1965-12-31| 528.690002| 528.690002| 528.690002| 528.690002| 528.690002|     0|\n",
      "| TWII|1997-08-22|9992.280273|10056.16016|9979.730469|10020.54981|10020.51172|     0|\n",
      "|  NYA|1966-01-03| 527.210022| 527.210022| 527.210022| 527.210022| 527.210022|     0|\n",
      "| TWII|1997-07-25| 9719.05957|9819.769531|9710.269531|9808.910156|9808.873047|     0|\n",
      "|  NYA|1966-01-04| 527.840027| 527.840027| 527.840027| 527.840027| 527.840027|     0|\n",
      "| TWII|1997-07-23|9694.280273|9694.280273|9345.900391| 9381.05957|9381.025391|     0|\n",
      "|  NYA|1966-01-05| 531.119995| 531.119995| 531.119995| 531.119995| 531.119995|     0|\n",
      "| TWII|1997-07-28|9929.980469|9995.370117|9899.580078|9923.049805|9923.011719|     0|\n",
      "|  NYA|1966-01-06| 532.070007| 532.070007| 532.070007| 532.070007| 532.070007|     0|\n",
      "| TWII|1997-07-02|9094.269531|9124.299805|8988.129883|8996.719727|8996.686523|     0|\n",
      "|  NYA|1966-01-07| 532.599976| 532.599976| 532.599976| 532.599976| 532.599976|     0|\n",
      "| TWII|1997-07-29|9980.110352| 10057.9502|9892.339844|9892.339844|9892.302734|     0|\n",
      "|  NYA|1966-01-10| 533.869995| 533.869995| 533.869995| 533.869995| 533.869995|     0|\n",
      "| TWII|1997-07-04|9144.959961|9218.209961|    9119.25|9192.570313|9192.536133|     0|\n",
      "|  NYA|1966-01-11| 534.289978| 534.289978| 534.289978| 534.289978| 534.289978|     0|\n",
      "| TWII|1997-07-30| 9953.94043|10000.61035|9898.299805|9942.790039|9942.751953|     0|\n",
      "|  NYA|1966-01-12| 533.340027| 533.340027| 533.340027| 533.340027| 533.340027|     0|\n",
      "| TWII|1997-07-08|9345.549805|     9371.5|9282.099609|9305.269531|9305.235352|     0|\n",
      "|  NYA|1966-01-13| 534.400024| 534.400024| 534.400024| 534.400024| 534.400024|     0|\n",
      "+-----+----------+-----------+-----------+-----------+-----------+-----------+------+\n",
      "only showing top 20 rows\n",
      "\n"
     ]
    }
   ],
   "source": [
    "df.orderBy('volume').show()"
   ]
  },
  {
   "cell_type": "code",
   "execution_count": 37,
   "metadata": {},
   "outputs": [
    {
     "data": {
      "text/plain": [
       "[Row(Index='N225', Date=datetime.date(2021, 6, 3), Open='28890.39063', High='29157.16016', Low='28879.15039', Close='29058.10938', Adj Close='29058.10938', Volume='0'),\n",
       " Row(Index='399001.SZ', Date=datetime.date(2021, 6, 2), Open='15044.94043', High='15051.20996', Low='14793.74023', Close='14857.91016', Adj Close='14857.91016', Volume='1470800')]"
      ]
     },
     "execution_count": 37,
     "metadata": {},
     "output_type": "execute_result"
    }
   ],
   "source": [
    "df.orderBy(df['date'].desc()).head(2)"
   ]
  },
  {
   "cell_type": "code",
   "execution_count": null,
   "metadata": {},
   "outputs": [],
   "source": []
  }
 ],
 "metadata": {
  "kernelspec": {
   "display_name": "Python 3",
   "language": "python",
   "name": "python3"
  },
  "language_info": {
   "codemirror_mode": {
    "name": "ipython",
    "version": 3
   },
   "file_extension": ".py",
   "mimetype": "text/x-python",
   "name": "python",
   "nbconvert_exporter": "python",
   "pygments_lexer": "ipython3",
   "version": "3.8.10"
  }
 },
 "nbformat": 4,
 "nbformat_minor": 4
}
